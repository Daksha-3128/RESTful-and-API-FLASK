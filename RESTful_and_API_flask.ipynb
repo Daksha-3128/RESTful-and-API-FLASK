{
  "nbformat": 4,
  "nbformat_minor": 0,
  "metadata": {
    "colab": {
      "provenance": []
    },
    "kernelspec": {
      "name": "python3",
      "display_name": "Python 3"
    },
    "language_info": {
      "name": "python"
    }
  },
  "cells": [
    {
      "cell_type": "markdown",
      "source": [
        "# Question-1 What is a RESTful API?\n",
        "# A RESTful API (Representational State Transfer API) is a way for computer systems to communicate over the internet using standard HTTP methods. It's based on a set of architectural principles designed to make web services simple, scalable, and stateless.\n",
        "\n",
        "\n"
      ],
      "metadata": {
        "id": "Q3uBDCh5_6Pg"
      }
    },
    {
      "cell_type": "markdown",
      "source": [
        "# QUESTION-2  Explain the concept of API specification?\n",
        "# An API specification is a formal, structured description of how an API works—essentially a contract that defines:\n",
        "\n",
        "# What endpoints the API exposes\n",
        "\n",
        "# What each endpoint does\n",
        "\n",
        "# How clients should interact with the API (request and response formats)\n",
        "\n",
        "# What data types, parameters, headers, and authentication are required\n",
        "\n",
        "# It tells developers how to build against or implement the API without needing to read the source code.\n",
        "\n",
        "\n"
      ],
      "metadata": {
        "id": "J6yXpc6xAnM3"
      }
    },
    {
      "cell_type": "markdown",
      "source": [
        "# QUESTION-3  What is Flask, and why is it popular for building APIs?\n",
        "# Flask is a lightweight, open-source web framework for Python that is especially popular for building RESTful APIs and small to medium-sized web applications.\n",
        "\n",
        "\n"
      ],
      "metadata": {
        "id": "bw7CLr10BOh0"
      }
    },
    {
      "cell_type": "markdown",
      "source": [
        "# QUESTION-4 What is routing in Flask?\n",
        "# Routing in Flask is the process of mapping URLs (routes) to specific Python functions, which handle the incoming requests. These functions are known as view functions or route handlers.\n",
        "\n",
        "\n"
      ],
      "metadata": {
        "id": "8sw3FF0HBebc"
      }
    },
    {
      "cell_type": "markdown",
      "source": [
        "# QUESTION-5  How do you create a simple Flask application?                                             \n",
        "# Ans5-installflask                                       \n",
        " # create app.py with the basic code\n",
        "# run the app\n"
      ],
      "metadata": {
        "id": "8pemuAkFB2Lu"
      }
    },
    {
      "cell_type": "markdown",
      "source": [
        "# QUESTION-6. What are HTTP methods used in RESTful APIs?                                                    \n",
        "# Ans6. In RESTful APIs, HTTP methods define the type of operation you're performing on a resource."
      ],
      "metadata": {
        "id": "6D9Db49qEM8t"
      }
    },
    {
      "cell_type": "markdown",
      "source": [
        "# QUESTION-7  What is the purpose of the @app.route() decorator in Flask?                                                  \n",
        "# Ans7. The @app.route() decorator in Flask is used to bind a function to a specific URL path. It tells Flask which URL should trigger which function.\n"
      ],
      "metadata": {
        "id": "rSExBILuFSxl"
      }
    },
    {
      "cell_type": "markdown",
      "source": [
        "# QUESTION-8  What is the difference between GET and POST HTTP methods?                                                 \n",
        "# Ans8. Use GET when fetching or reading data (safe, no side effects).\n",
        "\n",
        "# Use POST when sending data that changes something (e.g., create, update)."
      ],
      "metadata": {
        "id": "gM6WI6oVFjPn"
      }
    },
    {
      "cell_type": "markdown",
      "source": [
        "# QUESTION-9  How do you handle errors in Flask APIs?                   \n",
        "# Ans9. Return clear, consistent JSON error messages.\n",
        "\n",
        "# Always log server-side errors.\n",
        "\n",
        "# Avoid exposing sensitive internal details to clients."
      ],
      "metadata": {
        "id": "OmVAbTJGF11u"
      }
    },
    {
      "cell_type": "markdown",
      "source": [
        "# QUESTION-10. How do you connect Flask to a SQL database?                                                \n",
        "# Ans10. Flask can connect to SQL databases using several libraries, but the most common and flexible way is with SQLAlchemy, often through the Flask-SQLAlchemy extension."
      ],
      "metadata": {
        "id": "T0J_8HwwGJww"
      }
    },
    {
      "cell_type": "markdown",
      "source": [
        "# QUESTION-11  What is the role of Flask-SQLAlchemy?                 \n",
        "# Ans11. Flask-SQLAlchemy is a Flask extension that simplifies the integration of SQL databases using SQLAlchemy, a powerful Object Relational Mapper (ORM) for Python."
      ],
      "metadata": {
        "id": "P4Olnb-CGYel"
      }
    },
    {
      "cell_type": "markdown",
      "source": [
        "# QUESTION-12. What are Flask blueprints, and how are they useful?                                                 \n",
        "# Ans12. Flask Blueprints are a way to organize your Flask application into modular components. They allow you to group routes, templates, static files, and other code related to specific functionality — making large applications more maintainable."
      ],
      "metadata": {
        "id": "CZVxey8iGnFR"
      }
    },
    {
      "cell_type": "markdown",
      "source": [
        "# QUESTION-13.  What is the purpose of Flask's request object?   \n",
        "# Ans13. Flask's request object represents the incoming HTTP request from a client (browser, API client, etc.). It gives you access to all the data sent by the client when it calls your Flask route."
      ],
      "metadata": {
        "id": "cglObhPoG2Ra"
      }
    },
    {
      "cell_type": "markdown",
      "source": [
        "# QUESTION-14 . How do you create a RESTful API endpoint using Flask?                                                   \n",
        "# Ans14. Use @app.route() with methods like GET, POST, etc.\n",
        "\n",
        "# Use request.get_json() to get JSON input.\n",
        "\n",
        "# Use jsonify() to return JSON responses with proper status codes."
      ],
      "metadata": {
        "id": "jna82gz8HHyC"
      }
    },
    {
      "cell_type": "markdown",
      "source": [
        "# QUESTION-15 . What is the purpose of Flask's jsonify() function?                                                 \n",
        "# Ans15. The jsonify() function in Flask is used to convert Python data structures into a JSON-formatted HTTP response that can be sent back to the client."
      ],
      "metadata": {
        "id": "BtAhTCeUHYyD"
      }
    },
    {
      "cell_type": "markdown",
      "source": [
        "# QUESTION-16. Explain Flask’s url_for() function.                          \n",
        "# Ans16. url_for() is a very useful Flask function that generates URLs for your routes dynamically based on the function name of the view. Instead of hardcoding URLs, you use url_for() to build URLs — this makes your app more maintainable and flexible."
      ],
      "metadata": {
        "id": "LsiOmSvYHtT6"
      }
    },
    {
      "cell_type": "markdown",
      "source": [
        "# QUESTION-17 . How does Flask handle static files (CSS, JavaScript, etc.)?                                                    \n",
        "# Ans17. Place static files in the static folder by default.\n",
        "\n",
        "# Use url_for('static', filename='...') in templates for URLs.\n",
        "\n",
        "# Flask serves static files automatically under /static/."
      ],
      "metadata": {
        "id": "faWpkzJ8H7UM"
      }
    },
    {
      "cell_type": "markdown",
      "source": [
        "# QUESTION-18  What is an API specification, and how does it help in building a Flask API?                                 \n",
        "# Ans18. An API specification is a formal, structured document that defines how an API behaves and how clients should interact with it. It describes the API’s endpoints, request and response formats, parameters, authentication methods, error handling, and more."
      ],
      "metadata": {
        "id": "GelSlGRzIJJ9"
      }
    },
    {
      "cell_type": "markdown",
      "source": [
        "# QUESTION-19  What are HTTP status codes, and why are they important in a Flask API?                                    \n",
        "# Ans19. HTTP status codes are standardized 3-digit codes sent by a server in response to a client’s HTTP request. They indicate whether the request was successful, failed, or needs further action, and help clients understand what happened."
      ],
      "metadata": {
        "id": "2b71I8dUIduE"
      }
    },
    {
      "cell_type": "markdown",
      "source": [
        "# QUESTION-20 .  How do you handle POST requests in Flask?                                                                               \n",
        "# Ans20. Handling POST requests in Flask is straightforward. You typically use it to receive data from a client (like form data or JSON) and process it (e.g., create a resource).\n"
      ],
      "metadata": {
        "id": "UBkK61r-IpyN"
      }
    },
    {
      "cell_type": "markdown",
      "source": [
        "# QUESTION-21 . How would you secure a Flask API?                        \n",
        "# Ans21. Securing a Flask API involves multiple layers to protect data, control access, and prevent attacks."
      ],
      "metadata": {
        "id": "41hYpqmaIzz0"
      }
    },
    {
      "cell_type": "markdown",
      "source": [
        "# QUESTION-22 What is the significance of the Flask-RESTful extension?                                              \n",
        "# Ans22. Flask-RESTful is a popular Flask extension that simplifies building REST APIs by providing helpful abstractions and tools."
      ],
      "metadata": {
        "id": "GEy8iBibJDv6"
      }
    },
    {
      "cell_type": "markdown",
      "source": [
        "# QUESTION-23. What is the role of Flask’s session object?                                                                                \n",
        "# Ans23. Flask’s session object is used to store data specific to a user’s session across multiple requests. It lets you keep track of information between requests, like user login status, preferences, or temporary data.\n"
      ],
      "metadata": {
        "id": "Haj2yCpCJXNM"
      }
    },
    {
      "cell_type": "markdown",
      "source": [
        "PRACTICAL QUESTIONS"
      ],
      "metadata": {
        "id": "h3GZ-b_KCof1"
      }
    },
    {
      "cell_type": "code",
      "source": [
        "# QUESTION-1 How do you create a basic Flask application?\n",
        "#pip install flask\n",
        "from flask import Flask\n",
        "\n",
        "app = Flask(__name__)\n",
        "\n",
        "@app.route('/')\n",
        "def hello():\n",
        "    return \"Hello, World!\"\n",
        "\n",
        "if __name__ == '_main_':\n",
        "    app.run(debug=True)\n",
        "\n",
        "\n"
      ],
      "metadata": {
        "id": "uQLPEOE5Crjv"
      },
      "execution_count": 4,
      "outputs": []
    },
    {
      "cell_type": "code",
      "source": [
        "# QUESTION-2  How do you serve static files like images or CSS in Flask?\n",
        "from flask import Flask, render_template\n",
        "\n",
        "app = Flask(__name__)\n",
        "\n",
        "@app.route('/')\n",
        "def home():\n",
        "    return render_template('index.html')  # Your template uses url_for to load static files\n",
        "\n",
        "if __name__ == '_main_':\n",
        "    app.run(debug=True)\n",
        "\n"
      ],
      "metadata": {
        "id": "rP-ogAQKD7C6"
      },
      "execution_count": 5,
      "outputs": []
    },
    {
      "cell_type": "code",
      "source": [
        "# QUESTION-3. How do you define different routes with different HTTP methods in Flask?\n",
        "from flask import Flask, request\n",
        "\n",
        "app = Flask(__name__)\n",
        "\n",
        "@app.route('/example', methods=['GET', 'POST'])\n",
        "def example():\n",
        "    if request.method == 'POST':\n",
        "        return \"This is a POST request\"\n",
        "    else:\n",
        "        return \"This is a GET request\"\n",
        "\n",
        "if __name__ == '_main_':\n",
        "    app.run(debug=True)"
      ],
      "metadata": {
        "id": "9XLgFgTEKtgb"
      },
      "execution_count": 12,
      "outputs": []
    },
    {
      "cell_type": "code",
      "source": [
        "# QUESTION-4. How do you render HTML templates in Flask?\n",
        "from flask import render_template\n",
        "\n",
        "@app.route('/')\n",
        "def home():\n",
        "    return render_template('home.html')"
      ],
      "metadata": {
        "id": "1BnNpk4KL9gl"
      },
      "execution_count": 13,
      "outputs": []
    },
    {
      "cell_type": "code",
      "source": [
        "# QUESTION-5 How can you generate URLs for routes in Flask using url_for?\n",
        "from flask import Flask, url_for\n",
        "\n",
        "app = Flask(__name__)\n",
        "\n",
        "@app.route('/')\n",
        "def home():\n",
        "    return \"Home Page\"\n",
        "\n",
        "@app.route('/user/<username>')\n",
        "def profile(username):\n",
        "    return f\"Profile of {username}\"\n",
        "\n",
        "with app.test_request_context():\n",
        "    print(url_for('home'))\n",
        "    print(url_for('profile', username='alice'))"
      ],
      "metadata": {
        "colab": {
          "base_uri": "https://localhost:8080/"
        },
        "id": "cna3M2czM6UD",
        "outputId": "58580533-2f3e-4f7d-99ff-18c5e6c67782"
      },
      "execution_count": 15,
      "outputs": [
        {
          "output_type": "stream",
          "name": "stdout",
          "text": [
            "/\n",
            "/user/alice\n"
          ]
        }
      ]
    },
    {
      "cell_type": "code",
      "source": [
        "# QUESTION-6  How do you handle forms in Flask?\n",
        "@app.route('/form', methods=['GET', 'POST'])\n",
        "def form():\n",
        "    if request.method == 'POST':\n",
        "        name = request.form['name']\n",
        "        return f\"Hello {name}\"\n",
        "    return render_template('form.html')"
      ],
      "metadata": {
        "id": "MvGleZ1ON7oW"
      },
      "execution_count": 16,
      "outputs": []
    },
    {
      "cell_type": "code",
      "source": [
        "# QUESTION-7  How can you validate form data in Flask?\n",
        "\n",
        "@app.route('/form', methods=['GET', 'POST'])\n",
        "def form():\n",
        "    if request.method == 'POST':\n",
        "        name = request.form.get('name')\n",
        "        if not name:\n",
        "            return render_template('form.html', error=\"Name is required\")\n",
        "        return f\"Hello {name}\""
      ],
      "metadata": {
        "id": "FZ3bAeXATkke"
      },
      "execution_count": 17,
      "outputs": []
    },
    {
      "cell_type": "code",
      "source": [
        "# QUESTION-8. How do you manage sessions in Flask?\n",
        "from flask import Flask, session, redirect, url_for, request\n",
        "\n",
        "app = Flask(__name__)\n",
        "app.secret_key = 'supersecretkey'  # Needed to sign session cookies\n",
        "\n",
        "@app.route('/login', methods=['POST'])\n",
        "def login():\n",
        "    username = request.form['username']\n",
        "    # Authenticate user here (example: skip auth)\n",
        "    session['username'] = username  # Store username in session\n",
        "    return redirect(url_for('profile'))\n",
        "\n",
        "@app.route('/profile')\n",
        "def profile():\n",
        "    if 'username' in session:\n",
        "        return f\"Logged in as {session['username']}\"\n",
        "    else:\n",
        "        return \"You are not logged in\"\n",
        "\n",
        "@app.route('/logout')\n",
        "def logout():\n",
        "    session.pop('username', None)  # Remove username from session\n",
        "    return \"Logged out\"\n",
        "\n",
        "if __name__ == '_main_':\n",
        "    app.run(debug=True)"
      ],
      "metadata": {
        "id": "DWge9Z3ePRFH"
      },
      "execution_count": 5,
      "outputs": []
    },
    {
      "cell_type": "code",
      "metadata": {
        "id": "6ca6eab9"
      },
      "source": [
        "# QUESTION-9. How do you redirect to a different route in Flask?\n",
        "from flask import Flask, redirect, url_for\n",
        "\n",
        "app = Flask(__name__)\n",
        "\n",
        "@app.route('/')\n",
        "def home():\n",
        "    return \"This is the home page.\"\n",
        "\n",
        "@app.route('/go-to-home')\n",
        "def go_to_home():\n",
        "    return redirect(url_for('home'))  # Redirects to the 'home' route\n",
        "\n",
        "if __name__ == '_main_':\n",
        "    app.run(debug=True)"
      ],
      "execution_count": 4,
      "outputs": []
    },
    {
      "cell_type": "code",
      "source": [
        "# QUESTION-10. How do you handle errors in Flask (e.g., 404)?\n",
        "from flask import Flask, render_template\n",
        "\n",
        "app = Flask(__name__)\n",
        "\n",
        "@app.errorhandler(404)\n",
        "def page_not_found(error):\n",
        "    return render_template('404.html'), 404\n",
        "\n",
        "@app.route('/')\n",
        "def home():\n",
        "    return \"Welcome to the Home Page!\"\n",
        "\n",
        "if __name__ == '_main_':\n",
        "    app.run(debug=True)"
      ],
      "metadata": {
        "id": "hSPm_Gr5RQ7h"
      },
      "execution_count": 6,
      "outputs": []
    },
    {
      "cell_type": "code",
      "source": [
        "# QUESTION-11. How do you structure a Flask app using Blueprints?\n",
        "from flask import Flask, Blueprint\n",
        "\n",
        "# Define the blueprint\n",
        "users_bp = Blueprint('users', __name__, url_prefix='/users')\n",
        "\n",
        "@users_bp.route('/')\n",
        "def users_home():\n",
        "    return \"Users Home Page\"\n",
        "\n",
        "@users_bp.route('/profile')\n",
        "def profile():\n",
        "    return \"User Profile Page\"\n",
        "\n",
        "# Create the main Flask app\n",
        "app = Flask(__name__)\n",
        "\n",
        "# Register the blueprint with the app\n",
        "app.register_blueprint(users_bp)\n",
        "\n",
        "@app.route('/')\n",
        "def home():\n",
        "    return \"Main Home Page\"\n",
        "\n",
        "if __name__ == '_main_':\n",
        "    app.run(debug=True)"
      ],
      "metadata": {
        "id": "gNZv6xNTRjzy"
      },
      "execution_count": 9,
      "outputs": []
    },
    {
      "cell_type": "code",
      "source": [
        "# QUESTION-12. How do you define a custom Jinja filter in Flask?\n",
        "from flask import Flask, render_template_string\n",
        "\n",
        "app = Flask(__name__)\n",
        "\n",
        "def reverse_string(s):\n",
        "    return s[::-1]\n",
        "\n",
        "app.jinja_env.filters['reverse'] = reverse_string\n",
        "\n",
        "@app.route('/')\n",
        "def index():\n",
        "    return render_template_string(\"Reversed: {{ 'Flask' | reverse }}\")\n",
        "\n",
        "if __name__ == '_main_':\n",
        "    app.run(debug=True)"
      ],
      "metadata": {
        "id": "ZDehbtD5SHPW"
      },
      "execution_count": 10,
      "outputs": []
    },
    {
      "cell_type": "code",
      "source": [
        "# QUESTION-13. How can you redirect with query parameters in Flask?\n",
        "from flask import Flask, redirect, url_for\n",
        "\n",
        "app = Flask(__name__)\n",
        "\n",
        "@app.route('/')\n",
        "def home():\n",
        "    # Get query parameters if needed here\n",
        "    return \"Home Page\"\n",
        "\n",
        "@app.route('/redirect-example')\n",
        "def redirect_example():\n",
        "    # Redirect to 'home' with query parameters ?name=Alice&age=30\n",
        "    return redirect(url_for('home', name='Alice', age=30))\n",
        "\n",
        "if __name__ == '_main_':\n",
        "    app.run(debug=True)"
      ],
      "metadata": {
        "id": "cqK1uORdSbzn"
      },
      "execution_count": 12,
      "outputs": []
    },
    {
      "cell_type": "code",
      "source": [
        "# QUESTION-14. How do you return JSON responses in Flask?\n",
        "from flask import Flask, jsonify\n",
        "\n",
        "app = Flask(__name__)\n",
        "\n",
        "@app.route('/api/data')\n",
        "def data():\n",
        "    sample_data = {\n",
        "        \"name\": \"Alice\",\n",
        "        \"age\": 30,\n",
        "        \"city\": \"New York\"\n",
        "    }\n",
        "    return jsonify(sample_data)\n",
        "\n",
        "if __name__ == '_main_':\n",
        "    app.run(debug=True)"
      ],
      "metadata": {
        "id": "WrLhqbazSvAs"
      },
      "execution_count": 14,
      "outputs": []
    },
    {
      "cell_type": "code",
      "source": [
        "# QUESTION-15. How do you capture URL parameters in Flask?\n",
        "from flask import Flask\n",
        "\n",
        "app = Flask(__name__)\n",
        "\n",
        "@app.route('/user/<username>')\n",
        "def show_user(username):\n",
        "    return f\"User: {username}\"\n",
        "\n",
        "@app.route('/post/<int:post_id>')\n",
        "def show_post(post_id):\n",
        "    return f\"Post ID: {post_id}\"\n",
        "\n",
        "if __name__ == '_main_':\n",
        "    app.run(debug=True)"
      ],
      "metadata": {
        "id": "VqUXu9dfS_fH"
      },
      "execution_count": 16,
      "outputs": []
    }
  ]
}